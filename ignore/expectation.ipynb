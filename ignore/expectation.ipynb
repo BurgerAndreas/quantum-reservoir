{
 "cells": [
  {
   "cell_type": "code",
   "execution_count": 1,
   "metadata": {},
   "outputs": [],
   "source": [
    "import numpy as np\n",
    "import functools as ft"
   ]
  },
  {
   "attachments": {},
   "cell_type": "markdown",
   "metadata": {},
   "source": [
    "# Two qubit expectation"
   ]
  },
  {
   "cell_type": "code",
   "execution_count": 2,
   "metadata": {},
   "outputs": [
    {
     "name": "stdout",
     "output_type": "stream",
     "text": [
      "measured bitstring: 00 expectation: 1\n",
      "measured bitstring: 01 expectation: -1\n",
      "measured bitstring: 10 expectation: -1\n",
      "measured bitstring: 11 expectation: 1\n"
     ]
    }
   ],
   "source": [
    "z = np.array([[1, 0], [0, -1]])\n",
    "\n",
    "zz = np.kron(z, z)\n",
    "\n",
    "for p1 in range(2):\n",
    "    for p2 in range(2):\n",
    "        q1 = np.zeros((2), dtype=int)\n",
    "        q1[p1] = 1\n",
    "        q2 = np.zeros((2), dtype=int)\n",
    "        q2[p2] = 1\n",
    "\n",
    "        phi = np.kron(q1, q2)\n",
    "\n",
    "        expect = ft.reduce(np.matmul, [phi.T, zz, phi])\n",
    "\n",
    "        # print('state:', ''.join(map(str, phi)))\n",
    "        print('measured bitstring:', ''.join('0' if p == 0 else '1' for p in [p1, p2]), 'expectation:', expect)"
   ]
  },
  {
   "attachments": {},
   "cell_type": "markdown",
   "metadata": {},
   "source": [
    "# Three qubit expectation"
   ]
  },
  {
   "cell_type": "code",
   "execution_count": 4,
   "metadata": {},
   "outputs": [],
   "source": [
    "even = ['011', '110', '101', '000']\n",
    "odd = ['001', '010', '100', '111']\n",
    "\n",
    "\n"
   ]
  },
  {
   "cell_type": "code",
   "execution_count": 5,
   "metadata": {},
   "outputs": [
    {
     "name": "stdout",
     "output_type": "stream",
     "text": [
      "measured bitstring: 000 expectation: 1\n",
      "measured bitstring: 001 expectation: -1\n",
      "measured bitstring: 010 expectation: -1\n",
      "measured bitstring: 011 expectation: 1\n",
      "measured bitstring: 100 expectation: -1\n",
      "measured bitstring: 101 expectation: 1\n",
      "measured bitstring: 110 expectation: 1\n",
      "measured bitstring: 111 expectation: -1\n"
     ]
    }
   ],
   "source": [
    "zzzz = ft.reduce(np.kron, [z, z, z])\n",
    "\n",
    "for p1 in range(2):\n",
    "    for p2 in range(2):\n",
    "        for p3 in range(2):\n",
    "\n",
    "            q1 = np.zeros((2), dtype=int)\n",
    "            q1[p1] = 1\n",
    "            q2 = np.zeros((2), dtype=int)\n",
    "            q2[p2] = 1\n",
    "            q3 = np.zeros((2), dtype=int)\n",
    "            q3[p3] = 1\n",
    "\n",
    "            phi = ft.reduce(np.kron, [q1, q2, q3])\n",
    "\n",
    "            expect = ft.reduce(np.matmul, [phi.T, zzzz, phi])\n",
    "\n",
    "            # print('state:', ''.join(map(str, phi)))\n",
    "            print('measured bitstring:', ''.join('0' if p == 0 else '1' for p in [p1, p2, p3]), 'expectation:', expect)"
   ]
  },
  {
   "attachments": {},
   "cell_type": "markdown",
   "metadata": {},
   "source": [
    "# Four qubit expectation"
   ]
  },
  {
   "cell_type": "code",
   "execution_count": 6,
   "metadata": {},
   "outputs": [
    {
     "name": "stdout",
     "output_type": "stream",
     "text": [
      "measured bitstring: 0000 expectation: 1\n",
      "measured bitstring: 0001 expectation: -1\n",
      "measured bitstring: 0010 expectation: -1\n",
      "measured bitstring: 0011 expectation: 1\n",
      "measured bitstring: 0100 expectation: -1\n",
      "measured bitstring: 0101 expectation: 1\n",
      "measured bitstring: 0110 expectation: 1\n",
      "measured bitstring: 0111 expectation: -1\n",
      "measured bitstring: 1000 expectation: -1\n",
      "measured bitstring: 1001 expectation: 1\n",
      "measured bitstring: 1010 expectation: 1\n",
      "measured bitstring: 1011 expectation: -1\n",
      "measured bitstring: 1100 expectation: 1\n",
      "measured bitstring: 1101 expectation: -1\n",
      "measured bitstring: 1110 expectation: -1\n",
      "measured bitstring: 1111 expectation: 1\n"
     ]
    }
   ],
   "source": [
    "\n",
    "zzzz = ft.reduce(np.kron, [z, z, z, z])\n",
    "\n",
    "for p1 in range(2):\n",
    "    for p2 in range(2):\n",
    "        for p3 in range(2):\n",
    "            for p4 in range(2):\n",
    "\n",
    "                q1 = np.zeros((2), dtype=int)\n",
    "                q1[p1] = 1\n",
    "                q2 = np.zeros((2), dtype=int)\n",
    "                q2[p2] = 1\n",
    "                q3 = np.zeros((2), dtype=int)\n",
    "                q3[p3] = 1\n",
    "                q4 = np.zeros((2), dtype=int)\n",
    "                q4[p4] = 1\n",
    "\n",
    "                phi = ft.reduce(np.kron, [q1, q2, q3, q4])\n",
    "\n",
    "                expect = ft.reduce(np.matmul, [phi.T, zzzz, phi])\n",
    "\n",
    "                # print('state:', ''.join(map(str, phi)))\n",
    "                print('measured bitstring:', ''.join('0' if p == 0 else '1' for p in [p1, p2, p3, p4]), 'expectation:', expect)"
   ]
  },
  {
   "cell_type": "code",
   "execution_count": null,
   "metadata": {},
   "outputs": [],
   "source": []
  }
 ],
 "metadata": {
  "kernelspec": {
   "display_name": "envrl",
   "language": "python",
   "name": "python3"
  },
  "language_info": {
   "codemirror_mode": {
    "name": "ipython",
    "version": 3
   },
   "file_extension": ".py",
   "mimetype": "text/x-python",
   "name": "python",
   "nbconvert_exporter": "python",
   "pygments_lexer": "ipython3",
   "version": "3.11.3"
  },
  "orig_nbformat": 4
 },
 "nbformat": 4,
 "nbformat_minor": 2
}
