{
 "cells": [
  {
   "cell_type": "code",
   "execution_count": 1,
   "metadata": {},
   "outputs": [],
   "source": [
    "from qiskit import QuantumCircuit, transpile\n",
    "# from qiskit.providers.aer import QasmSimulator\n",
    "# from qiskit.providers.basicaer import QasmSimulatorPy\n",
    "from qiskit_aer import AerSimulator\n",
    "from qiskit.providers.fake_provider import FakeManila, FakeToronto\n",
    "import numpy as np\n",
    "import statsmodels.api as sm\n",
    "import matplotlib\n",
    "import matplotlib.pyplot as plt\n",
    "import seaborn as sns\n",
    "import pandas as pd\n",
    "import sklearn.preprocessing as skp\n",
    "from scipy.signal import savgol_filter\n",
    "import os\n",
    "import sys\n",
    "from datetime import date\n",
    "import pathlib\n",
    "import inspect\n",
    "import glob\n",
    "\n",
    "import warnings\n",
    "warnings.simplefilter(action='ignore', category=FutureWarning)\n",
    "\n",
    "# module_path = pathlib.Path(__file__).parent.parent.resolve() # .__str__()\n",
    "module_path = os.path.abspath(os.path.join('..')) \n",
    "sys.path.append(module_path) # /qrc-surrogate/\n",
    "\n",
    "from src.online_reservoir import QOnlineReservoir\n",
    "from src.rewinding_reservoir import QRewindingRC\n",
    "from src.feedforward_reservoir import CPolynomialFeedforward, QExtremeLearningMachine\n",
    "from src.data import DataSource\n",
    "# from src.helpers import moving_average, mse\n",
    "from src.baselines import BaselinePrediction, BaselineReservoir"
   ]
  },
  {
   "attachments": {},
   "cell_type": "markdown",
   "metadata": {},
   "source": [
    "# CZ\n",
    "\n",
    "HXH = Z \n",
    "HH = I"
   ]
  },
  {
   "cell_type": "code",
   "execution_count": 2,
   "metadata": {},
   "outputs": [
    {
     "data": {
      "text/plain": [
       "<qiskit.circuit.instructionset.InstructionSet at 0x110c57880>"
      ]
     },
     "execution_count": 2,
     "metadata": {},
     "output_type": "execute_result"
    }
   ],
   "source": [
    "qc = QuantumCircuit(2)\n",
    "\n",
    "qc.h(1)\n",
    "qc.cx(0, 1)\n",
    "qc.h(1)\n"
   ]
  },
  {
   "attachments": {},
   "cell_type": "markdown",
   "metadata": {},
   "source": [
    "# iSwap\n",
    "\n",
    "- XX+YY\n",
    "- phase the |01> and |10> amplitudes by i\n",
    "- exp(i pi/4 (XX + YY))"
   ]
  },
  {
   "cell_type": "code",
   "execution_count": 3,
   "metadata": {},
   "outputs": [
    {
     "data": {
      "text/html": [
       "<pre style=\"word-wrap: normal;white-space: pre;background: #fff0;line-height: 1.1;font-family: &quot;Courier New&quot;,Courier,monospace\">     ┌───┐┌───┐     ┌───┐     \n",
       "q_0: ┤ S ├┤ H ├──■──┤ X ├─────\n",
       "     ├───┤└───┘┌─┴─┐└─┬─┘┌───┐\n",
       "q_1: ┤ S ├─────┤ X ├──■──┤ H ├\n",
       "     └───┘     └───┘     └───┘</pre>"
      ],
      "text/plain": [
       "     ┌───┐┌───┐     ┌───┐     \n",
       "q_0: ┤ S ├┤ H ├──■──┤ X ├─────\n",
       "     ├───┤└───┘┌─┴─┐└─┬─┘┌───┐\n",
       "q_1: ┤ S ├─────┤ X ├──■──┤ H ├\n",
       "     └───┘     └───┘     └───┘"
      ]
     },
     "execution_count": 3,
     "metadata": {},
     "output_type": "execute_result"
    }
   ],
   "source": [
    "qc = QuantumCircuit(2)\n",
    "\n",
    "qc.s(0)\n",
    "qc.s(1)\n",
    "qc.h(0)\n",
    "qc.cx(0, 1)\n",
    "qc.cx(1, 0)\n",
    "qc.h(1)\n",
    "\n",
    "qc.draw()"
   ]
  }
 ],
 "metadata": {
  "kernelspec": {
   "display_name": "envrl",
   "language": "python",
   "name": "python3"
  },
  "language_info": {
   "codemirror_mode": {
    "name": "ipython",
    "version": 3
   },
   "file_extension": ".py",
   "mimetype": "text/x-python",
   "name": "python",
   "nbconvert_exporter": "python",
   "pygments_lexer": "ipython3",
   "version": "3.11.3"
  },
  "orig_nbformat": 4
 },
 "nbformat": 4,
 "nbformat_minor": 2
}
